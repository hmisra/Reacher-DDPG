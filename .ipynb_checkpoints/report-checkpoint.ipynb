{
 "cells": [
  {
   "cell_type": "markdown",
   "metadata": {},
   "source": [
    "## Algorithm Used - DDPG"
   ]
  },
  {
   "cell_type": "markdown",
   "metadata": {},
   "source": [
    "In this environment, a double-jointed arm can move to target locations. A reward of +0.1 is provided for each step that the agent's hand is in the goal location. Thus, the goal of your agent is to maintain its position at the target location for as many time steps as possible.\n",
    "\n",
    "The observation space consists of 33 variables corresponding to position, rotation, velocity, and angular velocities of the arm. Each action is a vector with four numbers, corresponding to torque applicable to two joints. Every entry in the action vector should be a number between -1 and 1.\n",
    "\n",
    "In the solution I tried to solve the second version which contains 20 identical agents, each with its own copy of the environment. To solve I trained DDPG actor and critic networks with experience replay. \n",
    "    - critic (value) network that maps (state, action) pairs -> Q-values.\n",
    "    - actor (policy) network that maps states -> actions.\n",
    "DDPG with experience replay uses 2 networks for each actor and critic, one as source network which makes the predictions and other as target which after every set interatctions with the environment updates the source networks. \n",
    "\n",
    "critic (value) network that maps (state, action) pairs -> Q-values.\n",
    "actor (policy) network that maps states -> actions.\n",
    ":\n",
    "\n",
    "1. Sample Step - In this the we use a actor critic network to smaple possible actions given a set of states. We store the experiences - (state, reward, action, next_state) into a replay buffer. \n",
    "2. Training Step - After pre-decided  in this case 20 timsteps we sample the replay buffer to train the actor and critic networks in the first step."
   ]
  },
  {
   "cell_type": "markdown",
   "metadata": {},
   "source": [
    "### Architecture of the actor and critic networks\n",
    "\n",
    "##### For the actor I used a simple Feed Forward Neural Network with Relu activation and batch normalization layers, below are the layers in order:\n",
    "\n",
    "   Input (size 33 state vector)\n",
    "   \n",
    "        |\n",
    "        \n",
    "     Batch Norm \n",
    "   \n",
    "        |\n",
    "        \n",
    "     Fully Connected\n",
    "   \n",
    "        |\n",
    "        \n",
    "      ReLU\n",
    "      \n",
    "        |\n",
    "        \n",
    "     Batch Norm \n",
    "   \n",
    "        |\n",
    "        \n",
    "     Fully Connected\n",
    "   \n",
    "        |\n",
    "        \n",
    "      ReLU\n",
    "      \n",
    "        |\n",
    "        \n",
    "     Batch Norm \n",
    "   \n",
    "        |\n",
    "        \n",
    "     Fully Connected\n",
    "   \n",
    "        |\n",
    "        \n",
    "       Tanh\n",
    "      \n",
    "      \n",
    "      \n",
    "      \n",
    "###### For the critic I also use a Feed Forward NN with Relu Activation and batch normalization layers, below are the layers in the order\n",
    "\n",
    "\n",
    "\n",
    "\n",
    "   \n",
    "   Input (size 33 state vector)\n",
    "   \n",
    "        |\n",
    "        \n",
    "   Batch Norm \n",
    "   \n",
    "        |\n",
    "        \n",
    "   Fully Connected\n",
    "   \n",
    "        |\n",
    "        \n",
    "      ReLU    Action\n",
    "      \n",
    "        | _ _ _ | \n",
    "        \n",
    "            |\n",
    "            \n",
    "          Concat\n",
    "          \n",
    "            |\n",
    "            \n",
    "          Fully Connected\n",
    "          \n",
    "            |\n",
    "            \n",
    "          Relu\n",
    "          \n",
    "            |\n",
    "            \n",
    "          Fully Connected (output size 1, expected reward)\n",
    "   \n"
   ]
  },
  {
   "cell_type": "markdown",
   "metadata": {},
   "source": [
    "### Hyperparameters\n",
    "\n",
    "Following hyperparameters were used to train the DQN\n",
    "```\n",
    "BUFFER_SIZE = int(1e6)  # replay buffer size\n",
    "BATCH_SIZE = 256        # minibatch size\n",
    "GAMMA = 0.99            # discount factor\n",
    "TAU = 1e-3              # for soft update of target parameters\n",
    "LR_ACTOR = 1e-3         # learning rate of the actor\n",
    "LR_CRITIC = 1e-3        # learning rate of the critic\n",
    "WEIGHT_DECAY = 0        # L2 weight decay\n",
    "EPSILON = 1.0           # epsilon\n",
    "EPSILON_DECAY = 1e-6    # epsilon decay\n",
    "\n",
    "```\n"
   ]
  },
  {
   "cell_type": "markdown",
   "metadata": {},
   "source": [
    "### Training\n",
    "\n",
    "It was required that all the 20 agents collects an average reward of 30 over 100 iterations. We reached the desired average reward in about 200 iterations \n",
    "\n",
    "![alt text](ddpg.png \"Title\")"
   ]
  },
  {
   "cell_type": "markdown",
   "metadata": {},
   "source": [
    "### Future Enhancements"
   ]
  },
  {
   "cell_type": "markdown",
   "metadata": {},
   "source": [
    "I am planning to implement algorithms like PPO, A3C, and D4PG that use multiple (non-interacting, parallel) copies of the same agent to distribute the task of gathering experience. I plan to study the variance in the performance of various algorithms and analyze various use cases where each one can offer benefit."
   ]
  },
  {
   "cell_type": "code",
   "execution_count": null,
   "metadata": {},
   "outputs": [],
   "source": []
  }
 ],
 "metadata": {
  "kernelspec": {
   "display_name": "Python 3",
   "language": "python",
   "name": "python3"
  },
  "language_info": {
   "codemirror_mode": {
    "name": "ipython",
    "version": 3
   },
   "file_extension": ".py",
   "mimetype": "text/x-python",
   "name": "python",
   "nbconvert_exporter": "python",
   "pygments_lexer": "ipython3",
   "version": "3.6.0"
  }
 },
 "nbformat": 4,
 "nbformat_minor": 2
}
